{
 "cells": [
  {
   "cell_type": "code",
   "execution_count": 215,
   "id": "1213d8d5",
   "metadata": {},
   "outputs": [],
   "source": [
    "import pandas as pd\n",
    "from sqlalchemy import create_engine\n",
    "from dbkeys import param_dic\n",
    "import psycopg2\n",
    "import matplotlib.pyplot as plt  \n",
    "import numpy as np"
   ]
  },
  {
   "cell_type": "code",
   "execution_count": 104,
   "id": "98bf93fa",
   "metadata": {},
   "outputs": [],
   "source": [
    "def connect(params_dic):\n",
    "    conn = None\n",
    "    try:\n",
    "        # connect to the PostgreSQL server\n",
    "        print('Connecting to the PostgreSQL database...')\n",
    "        conn = psycopg2.connect(**params_dic)\n",
    "    except (Exception, psycopg2.DatabaseError) as error:\n",
    "        print(error)\n",
    "        sys.exit(1) \n",
    "    print(\"Connection successful\")\n",
    "    return conn"
   ]
  },
  {
   "cell_type": "code",
   "execution_count": 105,
   "id": "d11bcc99",
   "metadata": {},
   "outputs": [
    {
     "name": "stdout",
     "output_type": "stream",
     "text": [
      "Connecting to the PostgreSQL database...\n",
      "Connection successful\n"
     ]
    }
   ],
   "source": [
    "conn = connect(param_dic)"
   ]
  },
  {
   "cell_type": "code",
   "execution_count": 106,
   "id": "e235ff0e",
   "metadata": {},
   "outputs": [],
   "source": [
    "salaries = pd.read_sql(\"SELECT * FROM salaries\", conn)\n",
    "titles = pd.read_sql(\"SELECT * FROM titles\", conn)\n",
    "departments = pd.read_sql(\"SELECT * FROM departments\", conn)\n",
    "dept_emp = pd.read_sql(\"SELECT * FROM dept_emp\", conn)\n",
    "dept_manager = pd.read_sql(\"SELECT * FROM dept_manager\", conn)\n",
    "employees = pd.read_sql(\"SELECT * FROM employees\", conn)"
   ]
  },
  {
   "cell_type": "code",
   "execution_count": 107,
   "id": "2ce41d63",
   "metadata": {},
   "outputs": [
    {
     "data": {
      "text/plain": [
       "52970.732451403885"
      ]
     },
     "execution_count": 107,
     "metadata": {},
     "output_type": "execute_result"
    }
   ],
   "source": [
    "avg_salaries = salaries['salary'].mean()\n",
    "avg_salaries"
   ]
  },
  {
   "cell_type": "code",
   "execution_count": 108,
   "id": "38c8ab57",
   "metadata": {},
   "outputs": [],
   "source": [
    "salary_employees_df = pd.merge(employees, salaries, on=\"emp_no\", how=\"inner\")\n",
    "salary_employees_df.rename(columns={\"emp_title_id\":\"title_id\"}, inplace=True)"
   ]
  },
  {
   "cell_type": "code",
   "execution_count": 109,
   "id": "ab28346f",
   "metadata": {},
   "outputs": [
    {
     "data": {
      "text/html": [
       "<div>\n",
       "<style scoped>\n",
       "    .dataframe tbody tr th:only-of-type {\n",
       "        vertical-align: middle;\n",
       "    }\n",
       "\n",
       "    .dataframe tbody tr th {\n",
       "        vertical-align: top;\n",
       "    }\n",
       "\n",
       "    .dataframe thead th {\n",
       "        text-align: right;\n",
       "    }\n",
       "</style>\n",
       "<table border=\"1\" class=\"dataframe\">\n",
       "  <thead>\n",
       "    <tr style=\"text-align: right;\">\n",
       "      <th></th>\n",
       "      <th>emp_no</th>\n",
       "      <th>title_id</th>\n",
       "      <th>birth_date</th>\n",
       "      <th>first_name</th>\n",
       "      <th>last_name</th>\n",
       "      <th>sex</th>\n",
       "      <th>hire_date</th>\n",
       "      <th>salary</th>\n",
       "    </tr>\n",
       "  </thead>\n",
       "  <tbody>\n",
       "    <tr>\n",
       "      <th>0</th>\n",
       "      <td>473302</td>\n",
       "      <td>s0001</td>\n",
       "      <td>1953-07-25</td>\n",
       "      <td>Hideyuki</td>\n",
       "      <td>Zallocco</td>\n",
       "      <td>M</td>\n",
       "      <td>1990-04-28</td>\n",
       "      <td>40000</td>\n",
       "    </tr>\n",
       "    <tr>\n",
       "      <th>1</th>\n",
       "      <td>475053</td>\n",
       "      <td>e0002</td>\n",
       "      <td>1954-11-18</td>\n",
       "      <td>Byong</td>\n",
       "      <td>Delgrande</td>\n",
       "      <td>F</td>\n",
       "      <td>1991-09-07</td>\n",
       "      <td>53422</td>\n",
       "    </tr>\n",
       "    <tr>\n",
       "      <th>2</th>\n",
       "      <td>57444</td>\n",
       "      <td>e0002</td>\n",
       "      <td>1958-01-30</td>\n",
       "      <td>Berry</td>\n",
       "      <td>Babb</td>\n",
       "      <td>F</td>\n",
       "      <td>1992-03-21</td>\n",
       "      <td>48973</td>\n",
       "    </tr>\n",
       "    <tr>\n",
       "      <th>3</th>\n",
       "      <td>421786</td>\n",
       "      <td>s0001</td>\n",
       "      <td>1957-09-28</td>\n",
       "      <td>Xiong</td>\n",
       "      <td>Verhoeff</td>\n",
       "      <td>M</td>\n",
       "      <td>1987-11-26</td>\n",
       "      <td>40000</td>\n",
       "    </tr>\n",
       "    <tr>\n",
       "      <th>4</th>\n",
       "      <td>282238</td>\n",
       "      <td>e0003</td>\n",
       "      <td>1952-10-28</td>\n",
       "      <td>Abdelkader</td>\n",
       "      <td>Baumann</td>\n",
       "      <td>F</td>\n",
       "      <td>1991-01-18</td>\n",
       "      <td>40000</td>\n",
       "    </tr>\n",
       "  </tbody>\n",
       "</table>\n",
       "</div>"
      ],
      "text/plain": [
       "   emp_no title_id  birth_date  first_name  last_name sex   hire_date  salary\n",
       "0  473302    s0001  1953-07-25    Hideyuki   Zallocco   M  1990-04-28   40000\n",
       "1  475053    e0002  1954-11-18       Byong  Delgrande   F  1991-09-07   53422\n",
       "2   57444    e0002  1958-01-30       Berry       Babb   F  1992-03-21   48973\n",
       "3  421786    s0001  1957-09-28       Xiong   Verhoeff   M  1987-11-26   40000\n",
       "4  282238    e0003  1952-10-28  Abdelkader    Baumann   F  1991-01-18   40000"
      ]
     },
     "execution_count": 109,
     "metadata": {},
     "output_type": "execute_result"
    }
   ],
   "source": [
    "salary_employees_df.head()"
   ]
  },
  {
   "cell_type": "code",
   "execution_count": 110,
   "id": "1f8970b0",
   "metadata": {},
   "outputs": [
    {
     "data": {
      "text/html": [
       "<div>\n",
       "<style scoped>\n",
       "    .dataframe tbody tr th:only-of-type {\n",
       "        vertical-align: middle;\n",
       "    }\n",
       "\n",
       "    .dataframe tbody tr th {\n",
       "        vertical-align: top;\n",
       "    }\n",
       "\n",
       "    .dataframe thead th {\n",
       "        text-align: right;\n",
       "    }\n",
       "</style>\n",
       "<table border=\"1\" class=\"dataframe\">\n",
       "  <thead>\n",
       "    <tr style=\"text-align: right;\">\n",
       "      <th></th>\n",
       "      <th>emp_no</th>\n",
       "      <th>title_id</th>\n",
       "      <th>birth_date</th>\n",
       "      <th>first_name</th>\n",
       "      <th>last_name</th>\n",
       "      <th>sex</th>\n",
       "      <th>hire_date</th>\n",
       "      <th>salary</th>\n",
       "      <th>title</th>\n",
       "    </tr>\n",
       "  </thead>\n",
       "  <tbody>\n",
       "    <tr>\n",
       "      <th>0</th>\n",
       "      <td>473302</td>\n",
       "      <td>s0001</td>\n",
       "      <td>1953-07-25</td>\n",
       "      <td>Hideyuki</td>\n",
       "      <td>Zallocco</td>\n",
       "      <td>M</td>\n",
       "      <td>1990-04-28</td>\n",
       "      <td>40000</td>\n",
       "      <td>Staff</td>\n",
       "    </tr>\n",
       "    <tr>\n",
       "      <th>1</th>\n",
       "      <td>421786</td>\n",
       "      <td>s0001</td>\n",
       "      <td>1957-09-28</td>\n",
       "      <td>Xiong</td>\n",
       "      <td>Verhoeff</td>\n",
       "      <td>M</td>\n",
       "      <td>1987-11-26</td>\n",
       "      <td>40000</td>\n",
       "      <td>Staff</td>\n",
       "    </tr>\n",
       "    <tr>\n",
       "      <th>2</th>\n",
       "      <td>273487</td>\n",
       "      <td>s0001</td>\n",
       "      <td>1957-04-14</td>\n",
       "      <td>Christoph</td>\n",
       "      <td>Parfitt</td>\n",
       "      <td>M</td>\n",
       "      <td>1991-06-28</td>\n",
       "      <td>56087</td>\n",
       "      <td>Staff</td>\n",
       "    </tr>\n",
       "    <tr>\n",
       "      <th>3</th>\n",
       "      <td>246449</td>\n",
       "      <td>s0001</td>\n",
       "      <td>1958-03-23</td>\n",
       "      <td>Subbu</td>\n",
       "      <td>Bultermann</td>\n",
       "      <td>F</td>\n",
       "      <td>1988-03-25</td>\n",
       "      <td>87084</td>\n",
       "      <td>Staff</td>\n",
       "    </tr>\n",
       "    <tr>\n",
       "      <th>4</th>\n",
       "      <td>48085</td>\n",
       "      <td>s0001</td>\n",
       "      <td>1964-01-19</td>\n",
       "      <td>Venkatesan</td>\n",
       "      <td>Gilg</td>\n",
       "      <td>M</td>\n",
       "      <td>1993-06-28</td>\n",
       "      <td>63016</td>\n",
       "      <td>Staff</td>\n",
       "    </tr>\n",
       "  </tbody>\n",
       "</table>\n",
       "</div>"
      ],
      "text/plain": [
       "   emp_no title_id  birth_date  first_name   last_name sex   hire_date  \\\n",
       "0  473302    s0001  1953-07-25    Hideyuki    Zallocco   M  1990-04-28   \n",
       "1  421786    s0001  1957-09-28       Xiong    Verhoeff   M  1987-11-26   \n",
       "2  273487    s0001  1957-04-14   Christoph     Parfitt   M  1991-06-28   \n",
       "3  246449    s0001  1958-03-23       Subbu  Bultermann   F  1988-03-25   \n",
       "4   48085    s0001  1964-01-19  Venkatesan        Gilg   M  1993-06-28   \n",
       "\n",
       "   salary  title  \n",
       "0   40000  Staff  \n",
       "1   40000  Staff  \n",
       "2   56087  Staff  \n",
       "3   87084  Staff  \n",
       "4   63016  Staff  "
      ]
     },
     "execution_count": 110,
     "metadata": {},
     "output_type": "execute_result"
    }
   ],
   "source": [
    "salary_employees_titles = pd.merge(salary_employees_df, titles, on=\"title_id\", how=\"inner\")\n",
    "salary_employees_titles.head()"
   ]
  },
  {
   "cell_type": "code",
   "execution_count": 140,
   "id": "b787fecd",
   "metadata": {},
   "outputs": [
    {
     "data": {
      "text/html": [
       "<div>\n",
       "<style scoped>\n",
       "    .dataframe tbody tr th:only-of-type {\n",
       "        vertical-align: middle;\n",
       "    }\n",
       "\n",
       "    .dataframe tbody tr th {\n",
       "        vertical-align: top;\n",
       "    }\n",
       "\n",
       "    .dataframe thead th {\n",
       "        text-align: right;\n",
       "    }\n",
       "</style>\n",
       "<table border=\"1\" class=\"dataframe\">\n",
       "  <thead>\n",
       "    <tr style=\"text-align: right;\">\n",
       "      <th></th>\n",
       "      <th>title</th>\n",
       "      <th>salary</th>\n",
       "    </tr>\n",
       "  </thead>\n",
       "  <tbody>\n",
       "    <tr>\n",
       "      <th>0</th>\n",
       "      <td>Assistant Engineer</td>\n",
       "      <td>48564.434447</td>\n",
       "    </tr>\n",
       "    <tr>\n",
       "      <th>1</th>\n",
       "      <td>Engineer</td>\n",
       "      <td>48535.336511</td>\n",
       "    </tr>\n",
       "    <tr>\n",
       "      <th>2</th>\n",
       "      <td>Manager</td>\n",
       "      <td>51531.041667</td>\n",
       "    </tr>\n",
       "    <tr>\n",
       "      <th>3</th>\n",
       "      <td>Senior Engineer</td>\n",
       "      <td>48506.799871</td>\n",
       "    </tr>\n",
       "    <tr>\n",
       "      <th>4</th>\n",
       "      <td>Senior Staff</td>\n",
       "      <td>58550.172704</td>\n",
       "    </tr>\n",
       "    <tr>\n",
       "      <th>5</th>\n",
       "      <td>Staff</td>\n",
       "      <td>58465.382850</td>\n",
       "    </tr>\n",
       "    <tr>\n",
       "      <th>6</th>\n",
       "      <td>Technique Leader</td>\n",
       "      <td>48582.896092</td>\n",
       "    </tr>\n",
       "  </tbody>\n",
       "</table>\n",
       "</div>"
      ],
      "text/plain": [
       "                title        salary\n",
       "0  Assistant Engineer  48564.434447\n",
       "1            Engineer  48535.336511\n",
       "2             Manager  51531.041667\n",
       "3     Senior Engineer  48506.799871\n",
       "4        Senior Staff  58550.172704\n",
       "5               Staff  58465.382850\n",
       "6    Technique Leader  48582.896092"
      ]
     },
     "execution_count": 140,
     "metadata": {},
     "output_type": "execute_result"
    }
   ],
   "source": [
    "avg_salary_title = salary_employees_titles.groupby([\"title\"])[\"salary\"].mean()\n",
    "avg_salary_title_df = pd.DataFrame(new)\n",
    "avg_salary_title_df = avg_salary_title_df.reset_index()\n",
    "avg_salary_title_df"
   ]
  },
  {
   "cell_type": "code",
   "execution_count": 145,
   "id": "1b766e79",
   "metadata": {},
   "outputs": [],
   "source": [
    "xticklabels = ['Assistant Engineer', 'Engineer', 'Manager', 'Senior Engineer', \n",
    "          'Senior Staff', 'Staff', 'Technique Leader']"
   ]
  },
  {
   "cell_type": "code",
   "execution_count": 149,
   "id": "bcc825a3",
   "metadata": {},
   "outputs": [
    {
     "data": {
      "image/png": "[encoded data removed]",
      "text/plain": [
       "<Figure size 576x432 with 1 Axes>"
      ]
     },
     "metadata": {
      "needs_background": "light"
     },
     "output_type": "display_data"
    }
   ],
   "source": [
    "fig1 = avg_salary_title_df.plot(kind=\"bar\", color = [\"green\"], figsize=(8,6),\n",
    "title = \"Average Salary by Position\", xlabel = \"Positions\", ylabel = \"Average Salary\")\n",
    "fig1.set_xticklabels(xticklabels, rotation=45, rotation_mode=\"anchor\", ha=\"right\", wrap=True)\n",
    "plt.ylim(30000, 70000)\n",
    "plt.show()"
   ]
  },
  {
   "cell_type": "code",
   "execution_count": 336,
   "id": "60f962ce",
   "metadata": {},
   "outputs": [
    {
     "data": {
      "text/plain": [
       "count    300024.000000\n",
       "mean      52970.732451\n",
       "std       14301.478491\n",
       "min       40000.000000\n",
       "25%       40000.000000\n",
       "50%       48681.000000\n",
       "75%       61758.000000\n",
       "max      129492.000000\n",
       "Name: salary, dtype: float64"
      ]
     },
     "execution_count": 336,
     "metadata": {},
     "output_type": "execute_result"
    }
   ],
   "source": [
    "salary_employees_df[\"salary\"].describe()"
   ]
  },
  {
   "cell_type": "code",
   "execution_count": 153,
   "id": "a6befc18",
   "metadata": {},
   "outputs": [
    {
     "data": {
      "text/plain": [
       "<AxesSubplot:>"
      ]
     },
     "execution_count": 153,
     "metadata": {},
     "output_type": "execute_result"
    },
    {
     "data": {
      "image/png": "[encoded data removed]",
      "text/plain": [
       "<Figure size 432x288 with 1 Axes>"
      ]
     },
     "metadata": {
      "needs_background": "light"
     },
     "output_type": "display_data"
    }
   ],
   "source": [
    "salary_employees_df[\"salary\"].hist()"
   ]
  },
  {
   "cell_type": "code",
   "execution_count": 262,
   "id": "b38b9fe6",
   "metadata": {},
   "outputs": [],
   "source": [
    "bins = [30000, 40000, 50000, 60000, 70000, 80000, 90000, 100000, 110000, 120000, 130000]\n",
    "\n",
    "group_names = [\"$30-40k\",\"$40-50k\",\"$50-60k\",\"$60-70k\", \"$70-80k\",\n",
    "               \"$80-90k\", \"$90-100k\", \"$100-110k\", \"$110-120k\", \"$120-130k\"]\n",
    "\n",
    "salary_employees_df[\"salary summary\"] = pd.cut(salary_employees_df[\"salary\"], bins, labels=group_names, include_lowest=True)\n"
   ]
  },
  {
   "cell_type": "code",
   "execution_count": 333,
   "id": "dd3c503f",
   "metadata": {},
   "outputs": [
    {
     "name": "stderr",
     "output_type": "stream",
     "text": [
      "/var/folders/4h/4_px6ykx7678g8lyvmfy6xs40000gn/T/ipykernel_35924/339767354.py:7: UserWarning: FixedFormatter should only be used together with FixedLocator\n",
      "  ax.set_xticklabels(group_names)\n"
     ]
    },
    {
     "data": {
      "image/png": "[encoded data removed]",
      "text/plain": [
       "<Figure size 864x576 with 1 Axes>"
      ]
     },
     "metadata": {
      "needs_background": "light"
     },
     "output_type": "display_data"
    }
   ],
   "source": [
    "salary_employees_df_binned = salary_employees_df.groupby(\"salary summary\")[\"salary\"].count()\n",
    "salary_employees_df_binned_df = pd.DataFrame(salary_employees_df_binned)\n",
    "ax = salary_employees_df_binned_df.plot(kind=\"hist\", title=\"Typical Salary Ranges\",\n",
    "                                  figsize=(12,8))\n",
    "plt.xlabel(\"Salaries\")\n",
    "plt.xlim([-10000, 130000])\n",
    "ax.set_xticklabels(group_names)\n",
    "plt.show()"
   ]
  }
 ],
 "metadata": {
  "kernelspec": {
   "display_name": "Python [conda env:PythonData38] *",
   "language": "python",
   "name": "conda-env-PythonData38-py"
  },
  "language_info": {
   "codemirror_mode": {
    "name": "ipython",
    "version": 3
   },
   "file_extension": ".py",
   "mimetype": "text/x-python",
   "name": "python",
   "nbconvert_exporter": "python",
   "pygments_lexer": "ipython3",
   "version": "3.8.12"
  }
 },
 "nbformat": 4,
 "nbformat_minor": 5
}
